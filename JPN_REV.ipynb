{
  "nbformat": 4,
  "nbformat_minor": 0,
  "metadata": {
    "colab": {
      "provenance": [],
      "collapsed_sections": [],
      "authorship_tag": "ABX9TyO2neydpfTZ/YMn5LupnVjm",
      "include_colab_link": true
    },
    "kernelspec": {
      "name": "python3",
      "display_name": "Python 3"
    },
    "language_info": {
      "name": "python"
    }
  },
  "cells": [
    {
      "cell_type": "markdown",
      "metadata": {
        "id": "view-in-github",
        "colab_type": "text"
      },
      "source": [
        "<a href=\"https://colab.research.google.com/github/jayllfpt/FPTU-JPD113-VocabRev/blob/main/JPN_REV.ipynb\" target=\"_parent\"><img src=\"https://colab.research.google.com/assets/colab-badge.svg\" alt=\"Open In Colab\"/></a>"
      ]
    },
    {
      "cell_type": "code",
      "execution_count": 15,
      "metadata": {
        "id": "XRDapfQ9Hcoe",
        "colab": {
          "base_uri": "https://localhost:8080/"
        },
        "outputId": "995bbd5f-801a-46b2-b5a2-d83cf4f54156"
      },
      "outputs": [
        {
          "output_type": "stream",
          "name": "stdout",
          "text": [
            "112\n"
          ]
        }
      ],
      "source": [
        "dic = {}\n",
        "\n",
        "dic['なまえ '] = 'Tên (bạn)'\n",
        "dic['くに'] ='Country'\n",
        "dic['かんこく '] = 'Korea'\n",
        "dic['ちゅうごく'] = 'China'\n",
        "dic['こうこう'] = 'THPT'\n",
        "dic['しごと'] = 'Công việc'\n",
        "dic['きょうし'] = 'Teacher'\n",
        "dic['かいしゃいん'] = 'Nhân viên văn phòng'\n",
        "dic['しゃいん '] = 'Nhân viên (của công ty nào đó)'\n",
        "dic['おくにはどちらですか。'] = 'Đất nước của bạn là nước nào?'\n",
        "dic['はじめまして'] = 'Xin chào (lần đầu gặp mặt)'\n",
        "dic['（どうぞ）よろしくおねがいします'] = 'Rất mong nhận được sự giúp đỡ của bạn'\n",
        "dic['こちらこそ'] = 'Tôi cũng vậy!'\n",
        "dic['そうですか。'] = 'Thế à!'\n",
        "dic['たんじょうび'] = 'Sinh nhật'\n",
        "dic['いつ'] = 'When'\n",
        "dic['しゅみ '] = 'Hobby'\n",
        "dic['スポーツ'] = 'Sport'\n",
        "dic['サッカー'] = 'Soccer'\n",
        "dic['テニス ']= 'Tennis'\n",
        "dic['すいえい'] = 'Bơi lội'\n",
        "dic['おんがく'] = 'Music'\n",
        "dic['どくしょ'] = 'Đọc sách'\n",
        "dic['りょこう'] = 'Du lịch'\n",
        "dic['りょうり'] = 'Nấu ăn / Món ăn'\n",
        "dic['エスカレーター'] = 'Thang cuốn'\n",
        "dic['エレベーター'] = 'Thang máy'\n",
        "dic['きつえんしょ'] = 'Nơi hút thuốc'\n",
        "dic['トイレ'] = 'Nhà vệ sinh'\n",
        "dic['レジ'] = 'Quầy thu ngân'\n",
        "dic['きっさてん'] = 'Quán giải khát'\n",
        "dic['レストラン'] = 'Restaurant'\n",
        "dic['パソコン'] = 'PC'\n",
        "dic['トイレットペーパー'] = 'Toilet paper'\n",
        "dic['ほん'] = 'Book'\n",
        "dic['こめ '] = 'Rice'\n",
        "dic['たまご'] = 'Egg'\n",
        "dic['いらっしゃいませ'] = 'Kính chào quý khách'\n",
        "dic['かばん'] = 'Cặp, túi xách'\n",
        "dic['ズボン'] = 'Quần dài'\n",
        "dic['T シャツ'] = 'T シャツ'\n",
        "dic['とけい '] = 'Đồng hồ'\n",
        "dic['さかな '] = 'Cá'\n",
        "dic['にく'] = 'Thit'\n",
        "dic['ぎゅうにく'] = 'Thịt bò'\n",
        "dic['ぶたにく'] = 'Thịt lợn'\n",
        "dic['やさい'] = 'Rau'\n",
        "dic['いちご'] = 'Quả dâu'\n",
        "dic['りんご'] = 'Apple'\n",
        "dic['とんかつ'] = 'Món thịt lợn chiên xù'\n",
        "dic['ハンバーグ'] = 'Món thịt băm viên'\n",
        "dic['ジュース '] = 'Juice'\n",
        "dic['コーヒー '] = 'Coffee'\n",
        "dic['こうちゃ'] = 'Black tea'\n",
        "dic['ビール'] = 'Beer'\n",
        "dic['ワイン'] = 'Wine'\n",
        "dic['さいふ'] = 'Ví tiền'\n",
        "dic['いま '] = 'Now'\n",
        "dic['ごぜん'] = 'AM'\n",
        "dic['ごご'] = 'PM'\n",
        "dic['ひる '] = 'Trưa'\n",
        "dic['ぎんこう'] = 'Bank'\n",
        "dic['たいいくかん '] = 'Nhà thi đấu, Nhà tập thể dục'\n",
        "dic['としょかん'] = 'Thư viện'\n",
        "dic['びょういん '] = 'Bệnh viện'\n",
        "dic['ゆうびんきょく'] = 'Bưu điện'\n",
        "dic['テスト '] = 'Test'\n",
        "dic['じゅぎょう '] = 'Giờ học'\n",
        "dic['やすみ '] = 'Nghỉ / Ngày nghỉ'\n",
        "dic['～じはん'] = '～ giờ rưỡi'\n",
        "dic['～ようび'] = 'Thứ ～'\n",
        "dic['スケジュール'] = 'Schedule'\n",
        "dic['アルバイト'] = 'Việc làm thêm'\n",
        "dic['パーティー'] = 'Party'\n",
        "dic['バーベキュー'] = 'BBQ'\n",
        "dic['はなび'] = 'Pháo hoa'\n",
        "dic['（お）はなみ'] = 'Ngắm hoa (anh đào)'\n",
        "dic['ホームステイ'] = 'Homestay'\n",
        "dic['(お）まつり'] = 'Festival'\n",
        "dic['こうえん'] = 'Park'\n",
        "dic['（お）べんとう'] = 'Cơm hộp'\n",
        "dic['はる '] = 'Spring'\n",
        "dic['なつ'] = 'Summer'\n",
        "dic['あき '] = 'Autumn'\n",
        "dic['ふゆ '] = 'Mùa đông'\n",
        "dic['いきます'] = 'Đi'\n",
        "dic['かえります'] = 'Về'\n",
        "dic['のみます'] = 'Uống'\n",
        "dic['たべます'] = 'Ăn'\n",
        "dic['みます'] = 'Xem, nhìn'\n",
        "dic['します［する］'] = 'Làm, chơi'\n",
        "dic['あさ'] = 'Buổi sáng'\n",
        "dic['よる'] = 'Buổi tối, đêm'\n",
        "dic['まいにち '] = 'Hàng ngày'\n",
        "dic['まいあさ'] = 'Hàng sáng'\n",
        "dic['まいばん'] = 'Mỗi tối'\n",
        "dic['あさごはん'] = 'Bữa sáng'\n",
        "dic['ひるごはん'] = 'Bữa trưa'\n",
        "dic['うち'] = 'Home/ House'\n",
        "dic['ぎゅうにゅう'] = 'Sữa bò'\n",
        "dic['コンビニ'] = 'convenience store'\n",
        "dic['がっこう'] = 'School'\n",
        "dic['くだもの'] = 'Hoa quả, trái cây'\n",
        "dic['サラダ '] = 'Salad'\n",
        "dic['チーズ'] = 'Pho-mát'\n",
        "dic['しんぶん '] = 'Magazine'\n",
        "dic['かいます'] = 'Mua'\n",
        "dic['ききます'] = 'Nghe'\n",
        "dic['はたらきます'] = 'Làm việc, lao động'\n",
        "dic['よみます'] = 'Đọc'\n",
        "dic['ねます'] = 'Ngủ'\n",
        "dic['きょうします'] = 'Học'\n",
        "\n",
        "\n"
      ]
    },
    {
      "cell_type": "code",
      "source": [
        "import random\n",
        "\n",
        "learn = []\n",
        "for i in range(5): \n",
        "  res = key, val = random.choice(list(dic.items()))\n",
        "  learn.append(res)\n",
        " \n",
        "for word in learn:\n",
        "  print(word[0])\n",
        "  x = input()\n",
        "  print(word)"
      ],
      "metadata": {
        "id": "UsBQl-S4IQ6T",
        "colab": {
          "base_uri": "https://localhost:8080/"
        },
        "outputId": "421cbca9-fa2b-4910-9b62-5b97d80808bc"
      },
      "execution_count": 17,
      "outputs": [
        {
          "output_type": "stream",
          "name": "stdout",
          "text": [
            "りんご\n",
            "?\n",
            "('りんご', 'Apple')\n",
            "ジュース \n",
            "?\n",
            "('ジュース ', 'Juice')\n",
            "こちらこそ\n",
            "?\n",
            "('こちらこそ', 'Tôi cũng vậy!')\n",
            "やすみ \n",
            "egg\n",
            "('やすみ ', 'Nghỉ / Ngày nghỉ')\n",
            "ごぜん\n",
            "?\n",
            "('ごぜん', 'AM')\n"
          ]
        }
      ]
    },
    {
      "cell_type": "code",
      "source": [],
      "metadata": {
        "id": "gca22Vu14aSq"
      },
      "execution_count": null,
      "outputs": []
    }
  ]
}